{
 "cells": [
  {
   "cell_type": "markdown",
   "metadata": {},
   "source": [
    "## Import Libraries"
   ]
  },
  {
   "cell_type": "code",
   "execution_count": 1,
   "metadata": {
    "_cell_guid": "b1076dfc-b9ad-4769-8c92-a6c4dae69d19",
    "_uuid": "8f2839f25d086af736a60e9eeb907d3b93b6e0e5"
   },
   "outputs": [],
   "source": [
    "import numpy as np # linear algebra\n",
    "import pandas as pd # data processing\n",
    "\n",
    "import os,glob\n",
    "os.environ[\"CUDA_VISIBLE_DEVICES\"] = \"0\""
   ]
  },
  {
   "cell_type": "code",
   "execution_count": 2,
   "metadata": {
    "_cell_guid": "79c7e3d0-c299-4dcb-8224-4455121ee9b0",
    "_uuid": "d629ff2d2480ee46fbb7e2d37f6b5fab8052498a"
   },
   "outputs": [],
   "source": [
    "%matplotlib inline\n",
    "\n",
    "import fastai\n",
    "\n",
    "from fastai import *\n",
    "from fastai.vision import *\n",
    "\n",
    "from torchvision.models import *\n",
    "import pretrainedmodels\n",
    "\n",
    "import sys\n",
    "\n",
    "from fastai.callbacks.hooks import *\n",
    "\n",
    "from fastai.callbacks.tracker import EarlyStoppingCallback\n",
    "from fastai.callbacks.tracker import SaveModelCallback\n"
   ]
  },
  {
   "cell_type": "code",
   "execution_count": 3,
   "metadata": {},
   "outputs": [],
   "source": [
    "import scipy.io\n",
    "import numpy as np\n",
    "import pandas as pd\n",
    "from datetime import datetime, timedelta"
   ]
  },
  {
   "cell_type": "markdown",
   "metadata": {},
   "source": [
    "## Loading the Data"
   ]
  },
  {
   "cell_type": "code",
   "execution_count": 79,
   "metadata": {},
   "outputs": [],
   "source": [
    "from numpy import genfromtxt\n",
    "path_vad = '/path/to/dataset/IAPS/IAPS_VAD.txt'\n",
    "mat_vad = pd.read_csv(path_vad,sep='\\t',names=['image','v','a','d'])"
   ]
  },
  {
   "cell_type": "code",
   "execution_count": 80,
   "metadata": {},
   "outputs": [],
   "source": [
    "mat_vad['image']=['/path/to/dataset/IAPS/Dataset/{}.jpg'.format(i) for i in mat_vad['image']]"
   ]
  },
  {
   "cell_type": "code",
   "execution_count": 81,
   "metadata": {},
   "outputs": [],
   "source": [
    "mat_vad['v']=(mat_vad['v']-1)/8\n",
    "mat_vad['a']=(mat_vad['a']-1)/8\n",
    "mat_vad['d']=(mat_vad['d']-1)/8"
   ]
  },
  {
   "cell_type": "code",
   "execution_count": 82,
   "metadata": {},
   "outputs": [
    {
     "data": {
      "text/html": [
       "<div>\n",
       "<style scoped>\n",
       "    .dataframe tbody tr th:only-of-type {\n",
       "        vertical-align: middle;\n",
       "    }\n",
       "\n",
       "    .dataframe tbody tr th {\n",
       "        vertical-align: top;\n",
       "    }\n",
       "\n",
       "    .dataframe thead th {\n",
       "        text-align: right;\n",
       "    }\n",
       "</style>\n",
       "<table border=\"1\" class=\"dataframe\">\n",
       "  <thead>\n",
       "    <tr style=\"text-align: right;\">\n",
       "      <th></th>\n",
       "      <th>image</th>\n",
       "      <th>v</th>\n",
       "      <th>a</th>\n",
       "      <th>d</th>\n",
       "    </tr>\n",
       "  </thead>\n",
       "  <tbody>\n",
       "    <tr>\n",
       "      <th>0</th>\n",
       "      <td>/path/to/dataset/IAPS/Dataset/1019.jpg</td>\n",
       "      <td>0.36875</td>\n",
       "      <td>0.59625</td>\n",
       "      <td>0.40375</td>\n",
       "    </tr>\n",
       "    <tr>\n",
       "      <th>1</th>\n",
       "      <td>/path/to/dataset/IAPS/Dataset/1022.jpg</td>\n",
       "      <td>0.40750</td>\n",
       "      <td>0.62750</td>\n",
       "      <td>0.36250</td>\n",
       "    </tr>\n",
       "    <tr>\n",
       "      <th>2</th>\n",
       "      <td>/path/to/dataset/IAPS/Dataset/1026.jpg</td>\n",
       "      <td>0.38625</td>\n",
       "      <td>0.57625</td>\n",
       "      <td>0.42875</td>\n",
       "    </tr>\n",
       "    <tr>\n",
       "      <th>3</th>\n",
       "      <td>/path/to/dataset/IAPS/Dataset/1030.jpg</td>\n",
       "      <td>0.41250</td>\n",
       "      <td>0.55750</td>\n",
       "      <td>0.44500</td>\n",
       "    </tr>\n",
       "    <tr>\n",
       "      <th>4</th>\n",
       "      <td>/path/to/dataset/IAPS/Dataset/1033.jpg</td>\n",
       "      <td>0.35875</td>\n",
       "      <td>0.64125</td>\n",
       "      <td>0.34125</td>\n",
       "    </tr>\n",
       "  </tbody>\n",
       "</table>\n",
       "</div>"
      ],
      "text/plain": [
       "                                    image        v        a        d\n",
       "0  /path/to/dataset/IAPS/Dataset/1019.jpg  0.36875  0.59625  0.40375\n",
       "1  /path/to/dataset/IAPS/Dataset/1022.jpg  0.40750  0.62750  0.36250\n",
       "2  /path/to/dataset/IAPS/Dataset/1026.jpg  0.38625  0.57625  0.42875\n",
       "3  /path/to/dataset/IAPS/Dataset/1030.jpg  0.41250  0.55750  0.44500\n",
       "4  /path/to/dataset/IAPS/Dataset/1033.jpg  0.35875  0.64125  0.34125"
      ]
     },
     "execution_count": 82,
     "metadata": {},
     "output_type": "execute_result"
    }
   ],
   "source": [
    "mat_vad.head()"
   ]
  },
  {
   "cell_type": "markdown",
   "metadata": {},
   "source": [
    "## Preparing the Data for Fastai Models"
   ]
  },
  {
   "cell_type": "code",
   "execution_count": 11,
   "metadata": {},
   "outputs": [],
   "source": [
    "tfms = get_transforms(max_lighting=None, do_flip=True)\n",
    "\n",
    "data_big = ImageList.from_df(mat_vad, '/', cols=['image'], folder ='.').split_by_rand_pct(0.01, seed=42).label_from_df(label_cls=FloatList,cols=['v','a','d']).transform(tfms, size=50).databunch(bs=10).normalize(imagenet_stats)"
   ]
  },
  {
   "cell_type": "markdown",
   "metadata": {},
   "source": [
    "## Fastai Modelling"
   ]
  },
  {
   "cell_type": "code",
   "execution_count": 13,
   "metadata": {},
   "outputs": [],
   "source": [
    "import torch\n",
    "import torch.nn as nn\n",
    "import torch.nn.functional as F\n",
    "from pathlib import Path\n",
    "import random"
   ]
  },
  {
   "cell_type": "code",
   "execution_count": 14,
   "metadata": {},
   "outputs": [],
   "source": [
    "class Model(nn.Module):\n",
    "    def __init__(self):\n",
    "        super().__init__()\n",
    "        layers = list(models.resnet50(pretrained=True).children())[:-1]\n",
    "        layers += [Flatten()]\n",
    "        layers += [nn.Linear(2048,512),nn.ReLU(),nn.Linear(512,128),nn.ReLU(),nn.Linear(128,3)]\n",
    "        self.model = nn.Sequential(*layers)\n",
    "    def forward(self, x):\n",
    "        out=self.model(x)\n",
    "        return out\n",
    "          # could add 116*torch.sigmoid"
   ]
  },
  {
   "cell_type": "code",
   "execution_count": 42,
   "metadata": {},
   "outputs": [],
   "source": [
    "pred_l=[]\n",
    "targ_l=[]"
   ]
  },
  {
   "cell_type": "code",
   "execution_count": 43,
   "metadata": {},
   "outputs": [],
   "source": [
    "from fastai.torch_core import flatten_check\n",
    "def root_mean_squared_error2(pred:Tensor, targ:Tensor)->Rank0Tensor:\n",
    "    \"Root mean squared error between `pred` and `targ`.\"\n",
    "    pred_l.append(pred)\n",
    "    targ_l.append(targ)\n",
    "    pred,targ = flatten_check(pred,targ)\n",
    "    return torch.sqrt(F.mse_loss(pred, targ))\n",
    "def flattened_MSE(pred:Tensor, targ:Tensor)->Rank0Tensor:\n",
    "    \"Root mean squared error between `pred` and `targ`.\"\n",
    "    if not model.training:\n",
    "        print('MSE,',pred,targ)\n",
    "    pred,targ = flatten_check(pred,targ)\n",
    "    return F.mse_loss(pred, targ)"
   ]
  },
  {
   "cell_type": "code",
   "execution_count": 44,
   "metadata": {},
   "outputs": [],
   "source": [
    "model = Model()"
   ]
  },
  {
   "cell_type": "code",
   "execution_count": 45,
   "metadata": {},
   "outputs": [],
   "source": [
    "learn = Learner(data_big, model, model_dir = \"/path/to/model/\", bn_wd=False,metrics=[root_mean_squared_error,root_mean_squared_error2,flattened_MSE],\n",
    "               callback_fns=[ShowGraph])"
   ]
  },
  {
   "cell_type": "code",
   "execution_count": 48,
   "metadata": {},
   "outputs": [],
   "source": [
    "lr = 4e-5\n",
    "wd = lr/7\n",
    "epoch=100"
   ]
  },
  {
   "cell_type": "code",
   "execution_count": 49,
   "metadata": {},
   "outputs": [
    {
     "data": {
      "text/html": [
       "<table border=\"1\" class=\"dataframe\">\n",
       "  <thead>\n",
       "    <tr style=\"text-align: left;\">\n",
       "      <th>epoch</th>\n",
       "      <th>train_loss</th>\n",
       "      <th>valid_loss</th>\n",
       "      <th>root_mean_squared_error</th>\n",
       "      <th>root_mean_squared_error2</th>\n",
       "      <th>flattened_MSE</th>\n",
       "      <th>time</th>\n",
       "    </tr>\n",
       "  </thead>\n",
       "  <tbody>\n",
       "    <tr>\n",
       "      <td>0</td>\n",
       "      <td>0.035484</td>\n",
       "      <td>0.050125</td>\n",
       "      <td>0.222814</td>\n",
       "      <td>0.222814</td>\n",
       "      <td>0.050125</td>\n",
       "      <td>00:10</td>\n",
       "    </tr>\n",
       "  </tbody>\n",
       "</table>"
      ],
      "text/plain": [
       "<IPython.core.display.HTML object>"
      ]
     },
     "metadata": {},
     "output_type": "display_data"
    },
    {
     "name": "stdout",
     "output_type": "stream",
     "text": [
      "MSE, tensor([[0.9179, 0.6805, 0.9699],\n",
      "        [0.4772, 0.5564, 0.5529],\n",
      "        [0.4367, 0.4989, 0.5497],\n",
      "        [0.5996, 0.6213, 0.6430],\n",
      "        [0.5364, 0.5085, 0.5760],\n",
      "        [0.4039, 0.4628, 0.4181],\n",
      "        [0.5260, 0.4961, 0.5399],\n",
      "        [0.6781, 0.7379, 0.7259],\n",
      "        [0.7295, 0.6506, 0.7814],\n",
      "        [0.4320, 0.3744, 0.4911]], device='cuda:0') tensor([[0.4800, 0.3325, 0.5575],\n",
      "        [0.4812, 0.6900, 0.4437],\n",
      "        [0.1375, 0.6913, 0.2550],\n",
      "        [0.9100, 0.3875, 0.6438],\n",
      "        [0.7912, 0.7937, 0.4625],\n",
      "        [0.6525, 0.5013, 0.6137],\n",
      "        [0.8175, 0.6687, 0.6463],\n",
      "        [0.8163, 0.6175, 0.6025],\n",
      "        [0.6862, 0.4775, 0.5825],\n",
      "        [0.4712, 0.4825, 0.5188]], device='cuda:0')\n",
      "MSE, tensor([[0.3288, 0.4562, 0.4181]], device='cuda:0') tensor([[0.7837, 0.5200, 0.6300]], device='cuda:0')\n"
     ]
    },
    {
     "data": {
      "image/png": "[encoded data removed]",
      "text/plain": [
       "<Figure size 432x288 with 1 Axes>"
      ]
     },
     "metadata": {},
     "output_type": "display_data"
    },
    {
     "name": "stdout",
     "output_type": "stream",
     "text": [
      "Better model found at epoch 0 with valid_loss value: 0.05012543499469757.\n"
     ]
    }
   ],
   "source": [
    "learn.fit(1, lr, wd=wd, callbacks=[SaveModelCallback(learn),EarlyStoppingCallback(learn,patience=4)])"
   ]
  },
  {
   "cell_type": "code",
   "execution_count": 69,
   "metadata": {},
   "outputs": [
    {
     "data": {
      "text/plain": [
       "[tensor([[0.9179, 0.6805, 0.9699],\n",
       "         [0.4772, 0.5564, 0.5529],\n",
       "         [0.4367, 0.4989, 0.5497],\n",
       "         [0.5996, 0.6213, 0.6430],\n",
       "         [0.5364, 0.5085, 0.5760],\n",
       "         [0.4039, 0.4628, 0.4181],\n",
       "         [0.5260, 0.4961, 0.5399],\n",
       "         [0.6781, 0.7379, 0.7259],\n",
       "         [0.7295, 0.6506, 0.7814],\n",
       "         [0.4320, 0.3744, 0.4911]], device='cuda:0'),\n",
       " tensor([[0.3288, 0.4562, 0.4181]], device='cuda:0')]"
      ]
     },
     "execution_count": 69,
     "metadata": {},
     "output_type": "execute_result"
    }
   ],
   "source": [
    "pred_l#same as the input of MSE"
   ]
  },
  {
   "cell_type": "code",
   "execution_count": 51,
   "metadata": {},
   "outputs": [
    {
     "data": {
      "text/plain": [
       "[tensor([[0.4800, 0.3325, 0.5575],\n",
       "         [0.4812, 0.6900, 0.4437],\n",
       "         [0.1375, 0.6913, 0.2550],\n",
       "         [0.9100, 0.3875, 0.6438],\n",
       "         [0.7912, 0.7937, 0.4625],\n",
       "         [0.6525, 0.5013, 0.6137],\n",
       "         [0.8175, 0.6687, 0.6463],\n",
       "         [0.8163, 0.6175, 0.6025],\n",
       "         [0.6862, 0.4775, 0.5825],\n",
       "         [0.4712, 0.4825, 0.5188]], device='cuda:0'),\n",
       " tensor([[0.7837, 0.5200, 0.6300]], device='cuda:0')]"
      ]
     },
     "execution_count": 51,
     "metadata": {},
     "output_type": "execute_result"
    }
   ],
   "source": [
    "targ_l#same as the input of MSE"
   ]
  },
  {
   "cell_type": "code",
   "execution_count": 52,
   "metadata": {},
   "outputs": [],
   "source": [
    "x=[(pred_l[i]-targ_l[i])**2 for i in range(len(pred_l))]"
   ]
  },
  {
   "cell_type": "code",
   "execution_count": 71,
   "metadata": {},
   "outputs": [
    {
     "data": {
      "text/plain": [
       "tensor(0.0501, device='cuda:0')"
      ]
     },
     "execution_count": 71,
     "metadata": {},
     "output_type": "execute_result"
    }
   ],
   "source": [
    "#how 0.050125 (valid_loss) is calculated\n",
    "(F.mse_loss(pred_l[0],targ_l[0])*len(pred_l[0])+F.mse_loss(pred_l[1],targ_l[1])*len(pred_l[1]))/(len(pred_l[0])+len(pred_l[1]))"
   ]
  },
  {
   "cell_type": "code",
   "execution_count": 72,
   "metadata": {},
   "outputs": [
    {
     "data": {
      "text/plain": [
       "tensor(0.2228, device='cuda:0')"
      ]
     },
     "execution_count": 72,
     "metadata": {},
     "output_type": "execute_result"
    }
   ],
   "source": [
    "#how 0.222814 (RMSE in metrics) is calculated\n",
    "(F.mse_loss(pred_l[0],targ_l[0])**0.5*len(pred_l[0])+F.mse_loss(pred_l[1],targ_l[1])**0.5*len(pred_l[1]))/(len(pred_l[0])+len(pred_l[1]))"
   ]
  },
  {
   "cell_type": "code",
   "execution_count": 56,
   "metadata": {},
   "outputs": [
    {
     "data": {
      "text/plain": [
       "tensor(0.0501, device='cuda:0')"
      ]
     },
     "execution_count": 56,
     "metadata": {},
     "output_type": "execute_result"
    }
   ],
   "source": [
    "#MSE is correctly claculated\n",
    "torch.mean(torch.cat(x))"
   ]
  },
  {
   "cell_type": "code",
   "execution_count": 83,
   "metadata": {},
   "outputs": [
    {
     "data": {
      "text/plain": [
       "tensor(0.2239, device='cuda:0')"
      ]
     },
     "execution_count": 83,
     "metadata": {},
     "output_type": "execute_result"
    }
   ],
   "source": [
    "#what i think the RMSE should be\n",
    "torch.mean(torch.cat(x))**0.5"
   ]
  },
  {
   "cell_type": "code",
   "execution_count": null,
   "metadata": {},
   "outputs": [],
   "source": []
  },
  {
   "cell_type": "code",
   "execution_count": null,
   "metadata": {},
   "outputs": [],
   "source": []
  }
 ],
 "metadata": {
  "kernelspec": {
   "display_name": "Python 3",
   "language": "python",
   "name": "python3"
  },
  "language_info": {
   "codemirror_mode": {
    "name": "ipython",
    "version": 3
   },
   "file_extension": ".py",
   "mimetype": "text/x-python",
   "name": "python",
   "nbconvert_exporter": "python",
   "pygments_lexer": "ipython3",
   "version": "3.7.1"
  }
 },
 "nbformat": 4,
 "nbformat_minor": 4
}
